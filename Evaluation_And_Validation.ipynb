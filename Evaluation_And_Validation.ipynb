{
 "cells": [
  {
   "cell_type": "code",
   "execution_count": 267,
   "id": "e05ab13d",
   "metadata": {},
   "outputs": [],
   "source": [
    "import pandas as pd\n",
    "import numpy as np\n",
    "from matplotlib import pyplot as plt\n",
    "from sklearn import metrics\n",
    "from sklearn.model_selection import KFold\n",
    "import collections"
   ]
  },
  {
   "cell_type": "code",
   "execution_count": 2,
   "id": "6b9fb9ed",
   "metadata": {},
   "outputs": [],
   "source": [
    "# Model Metrics will be defined below"
   ]
  },
  {
   "cell_type": "code",
   "execution_count": 85,
   "id": "5000507b",
   "metadata": {},
   "outputs": [
    {
     "name": "stdout",
     "output_type": "stream",
     "text": [
      "(25, 29, 24, 22, 0.5102039775093923, 0.5319147804436637, 0.5319147804436637, 0.5319147804436637, 0.45283029191881286, 0.54)\n"
     ]
    }
   ],
   "source": [
    "def confusion_matrix(y_prob: np.ndarray, y_true: np.ndarray, threshold = 0.5, verbose = False):\n",
    "    '''\n",
    "    Input - Y_pred : numpy array containing prediction probabilities between 0 to 1 \n",
    "            Y_true : umpy array denoting true class (1/0)\n",
    "            threshold: cutoff above which predicted class is 1 else 0\n",
    "    Output - True Positive, False Positives, True Negatives, False Negatives, Precsion, .....\n",
    "    '''\n",
    "    total = y_true.shape[0]\n",
    "    if total ==0 or total != y_prob.shape[0]:\n",
    "        raise ValueError(\"Input array is empty or y_prob and y_true are not compatible\")\n",
    "    # Can also write check for contents of y_true and y_prob\n",
    "    if sum(y_prob > 1) or sum(y_prob < 0):\n",
    "        raise ValueError(\"Incorrect Entries present in y_pred\")\n",
    "        \n",
    "    if sorted(list(collections.Counter(y_true).keys())) !=[0,1]:\n",
    "        raise ValueError(\"Incorrect value in y_true, please ensure it contains only 1 or 0\")\n",
    "    if threshold >1 or threshold <0:\n",
    "        raise ValueError (\"Incorrect value for threshold, please enter a value between 0 to 1\")\n",
    "    \n",
    "    y_pred = y_prob > threshold\n",
    "    if verbose: print (\"total: \", total, y_prob, y_true, y_pred, threshold)\n",
    "    TP = np.where((y_true == 1) & (y_pred == 1))[0].shape[0]\n",
    "    TN = np.where((y_true == 0) & (y_pred == 0))[0].shape[0]\n",
    "    FP = np.where((y_true == 0) & (y_pred == 1))[0].shape[0]\n",
    "    FN = np.where((y_true == 1) & (y_pred == 0))[0].shape[0]\n",
    "    if verbose: print (\"TP: \", TP)\n",
    "    \n",
    "    alpha = 1e-05\n",
    "    precision =  TP/(TP+FP+alpha) # This alpha is required to handle cases where threshold is either 0 or 1\n",
    "    recall = sensitivity = TPR = TP/(TP+FN+alpha)\n",
    "    specificity = TN/(TN+FP+alpha)\n",
    "    FPR = 1 - specificity\n",
    "    accuracy = (TP+TN) / (total)\n",
    "    \n",
    "    return TP, TN, FP, FN, precision, recall, sensitivity, TPR, FPR, accuracy\n",
    "\n",
    "    \n",
    "y_prob = np.random.rand(100)\n",
    "y_true =np.random.randint(0,2,100)\n",
    "print (confusion_matrix(y_prob, y_true, verbose = False))   "
   ]
  },
  {
   "cell_type": "code",
   "execution_count": 95,
   "id": "0306af6f",
   "metadata": {},
   "outputs": [
    {
     "data": {
      "image/png": "[encoded data removed]",
      "text/plain": [
       "<Figure size 432x288 with 1 Axes>"
      ]
     },
     "metadata": {
      "needs_background": "light"
     },
     "output_type": "display_data"
    },
    {
     "name": "stdout",
     "output_type": "stream",
     "text": [
      "Manual & SK AUC val: 0.4808612247819195 0.4833496023427374\n",
      "Diff in % b/w Manual & SK AUC:  0.15608040432452164\n"
     ]
    }
   ],
   "source": [
    "def roc_auc(y_prob, y_true, plot = True):\n",
    "    '''\n",
    "    Input - Y_pred : numpy array containing prediction probabilities between 0 to 1 \n",
    "            Y_true : umpy array denoting true class (1/0)\n",
    "            threshold: cutoff above which predicted class is 1 else 0\n",
    "    # The thresholds can be 0.05 or 0.1 intervals or it can be sort(y_prob), it doesn't matter much.\n",
    "    The difference between sklearn and my computation is < 0.5% ~ 50 bps which is very tiny \n",
    "    Output - Area under the curve\n",
    "    '''\n",
    "    thresholds = np.arange(0,1.05,0.05) \n",
    "    #thresholds = np.sort(y_prob)\n",
    "    y_vals, x_vals = [], []\n",
    "    for threshold in thresholds:\n",
    "        custom_metrics = confusion_matrix(y_prob, y_true, threshold, verbose = False)\n",
    "        TPR, FPR = custom_metrics[7:9]\n",
    "        y_vals.append(TPR)\n",
    "        x_vals.append(FPR)\n",
    "    \n",
    "    x_vals = x_vals[::-1] # Inversion is required because threshold = 0 is on top right \n",
    "    y_vals = y_vals[::-1]\n",
    "    auc = 0 \n",
    "    for i in range(1,len(thresholds)):\n",
    "        dx = x_vals[i] - x_vals[i-1]\n",
    "        y_avg = (y_vals[i] + y_vals[i-1])/2\n",
    "        #print (i, dx, dy)\n",
    "        auc += dx*y_avg\n",
    "        \n",
    "    sk_auc = metrics.roc_auc_score(y_true, y_prob)\n",
    "\n",
    "    if plot:\n",
    "        plt.plot(x_vals, y_vals, 'o-', label = \"AUC: \"+str(auc))\n",
    "        plt.xlabel('TPR')\n",
    "        plt.ylabel('FPR')\n",
    "        plt.legend(loc = 'best')\n",
    "        plt.title('Received Operating Characteristics')\n",
    "        plt.show()\n",
    "    return auc, sk_auc\n",
    "\n",
    "auc, sk_auc = roc_auc(y_prob, y_true, plot = True)\n",
    "print(\"Manual & SK AUC val:\", auc, sk_auc)\n",
    "\n",
    "diff = []\n",
    "for _ in range(100):\n",
    "    y_prob = np.random.rand(1000)\n",
    "    y_true =np.random.randint(0,2,1000)\n",
    "    auc, sk_auc = roc_auc(y_prob, y_true, plot = False)\n",
    "    #print(auc, sk_auc)\n",
    "    diff.append(abs(auc - sk_auc)*100/sk_auc)\n",
    "\n",
    "print (\"Diff in % b/w Manual & SK AUC: \", np.array(diff).mean())\n",
    "    "
   ]
  },
  {
   "cell_type": "code",
   "execution_count": 281,
   "id": "6d6865ef",
   "metadata": {},
   "outputs": [
    {
     "name": "stdout",
     "output_type": "stream",
     "text": [
      "(83, 2) (21, 2) (83,) (21,)\n",
      "(83, 2) (21, 2) (83,) (21,)\n",
      "(83, 2) (21, 2) (83,) (21,)\n",
      "(83, 2) (21, 2) (83,) (21,)\n",
      "(84, 2) (20, 2) (84,) (20,)\n",
      "[[0.1041653  0.70745956]\n",
      " [0.22187475 0.61643533]]\n",
      "(83, 2) (21, 2) (83,) (21,)\n",
      "(83, 2) (21, 2) (83,) (21,)\n",
      "(83, 2) (21, 2) (83,) (21,)\n",
      "(83, 2) (21, 2) (83,) (21,)\n",
      "(84, 2) (20, 2) (84,) (20,)\n",
      "[[0.5062049  0.16569109]\n",
      " [0.53736699 0.90397274]]\n"
     ]
    }
   ],
   "source": [
    "### K-fold cross validation\n",
    "class Kfold_custom:\n",
    "    def __init__(self, k = 5, shuffle = False, verbose = False, seed = None):\n",
    "        '''\n",
    "        This class takes as input value of k, shuffle option and seed.\n",
    "        It returns the indices of train and test for k folds. \n",
    "        The value of k should be minimum 2 and maximum length of input dataset.\n",
    "        It works for binary & multiclass classifier & regressor\n",
    "        '''\n",
    "        self.k = k \n",
    "        if k <2:\n",
    "            raise ValueError(\"The value of k should be atleast 2\")\n",
    "        self.shuffle = shuffle\n",
    "        self.verbose = verbose\n",
    "        self.seed = seed\n",
    "    \n",
    "    def split(self,X):\n",
    "        num_entries = X.shape[0]\n",
    "        indices = np.array(range(num_entries))\n",
    "        if self.shuffle: \n",
    "            if self.seed:\n",
    "                np.random.seed(self.seed)\n",
    "            np.random.shuffle(indices)\n",
    "        \n",
    "        num_samples = (num_entries // self.k)*self.k\n",
    "        if self.verbose: print (\"num_samples: \", num_samples)\n",
    "        indices_to_split, indices_left = indices[:num_samples], indices[num_samples:]\n",
    "        \n",
    "        all_splits = np.split(indices_to_split, self.k)\n",
    "        \n",
    "        all_splits_full = []\n",
    "        for index in range(self.k):\n",
    "            if index < len(indices_left):\n",
    "                element = indices_left[index]\n",
    "                temp = np.append(all_splits[index], element)\n",
    "            else:\n",
    "                temp = all_splits[index]\n",
    "            all_splits_full.append(temp)\n",
    "        \n",
    "        #result = []               \n",
    "        for split in all_splits_full:\n",
    "            mask = np.array([True if index in set(split) else False for index in indices ])\n",
    "            data = [indices[~mask], indices[mask]]\n",
    "            yield data\n",
    "            #result.append(data)\n",
    "        #return result\n",
    "\n",
    "# Application\n",
    "X = np.random.rand(104,2)\n",
    "y = np.random.randint(0,2,104)\n",
    "\n",
    "kf = Kfold_custom(k = 5, shuffle = True, verbose = False, seed = 127)    \n",
    "for train_index, test_index in kf.split(X):\n",
    "    #print (train_index, test_index)\n",
    "    X_train = X[train_index]\n",
    "    X_test = X[test_index]\n",
    "    y_train = y[train_index]\n",
    "    y_test = y[test_index]\n",
    "    print (X_train.shape, X_test.shape, y_train.shape, y_test.shape)\n",
    "print (X_test[:2])\n",
    "\n",
    "## Official SKLEARN Usage\n",
    "kf_sk = KFold(n_splits = 5, shuffle = True, random_state = 127)\n",
    "for train_index, test_index in kf_sk.split(X):\n",
    "    #print (train_index, test_index)\n",
    "    X_train = X[train_index]\n",
    "    X_test = X[test_index]\n",
    "    y_train = y[train_index]\n",
    "    y_test = y[test_index]\n",
    "    print (X_train.shape, X_test.shape, y_train.shape, y_test.shape)\n",
    "print (X_test[:2])"
   ]
  },
  {
   "cell_type": "code",
   "execution_count": 229,
   "id": "c29c46f7",
   "metadata": {},
   "outputs": [
    {
     "data": {
      "text/plain": [
       "array([10, 30])"
      ]
     },
     "execution_count": 229,
     "metadata": {},
     "output_type": "execute_result"
    }
   ],
   "source": [
    "a = np.array([10,20,30,49])\n",
    "a[np.array([0,2])]"
   ]
  },
  {
   "cell_type": "code",
   "execution_count": 261,
   "id": "8608fb4c",
   "metadata": {},
   "outputs": [],
   "source": [
    "Kfold?"
   ]
  },
  {
   "cell_type": "code",
   "execution_count": null,
   "id": "f1a149ae",
   "metadata": {},
   "outputs": [],
   "source": []
  }
 ],
 "metadata": {
  "kernelspec": {
   "display_name": "Python 3 (ipykernel)",
   "language": "python",
   "name": "python3"
  },
  "language_info": {
   "codemirror_mode": {
    "name": "ipython",
    "version": 3
   },
   "file_extension": ".py",
   "mimetype": "text/x-python",
   "name": "python",
   "nbconvert_exporter": "python",
   "pygments_lexer": "ipython3",
   "version": "3.9.12"
  }
 },
 "nbformat": 4,
 "nbformat_minor": 5
}

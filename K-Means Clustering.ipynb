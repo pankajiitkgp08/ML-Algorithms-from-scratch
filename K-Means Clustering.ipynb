{
 "cells": [
  {
   "cell_type": "code",
   "execution_count": 46,
   "id": "c939916a",
   "metadata": {},
   "outputs": [],
   "source": [
    "import pandas as pd\n",
    "import numpy as np\n",
    "import os, json, csv, time\n",
    "from collections import Counter, defaultdict\n",
    "import matplotlib.pyplot as plt"
   ]
  },
  {
   "cell_type": "code",
   "execution_count": 152,
   "id": "d7ea70ac",
   "metadata": {},
   "outputs": [
    {
     "name": "stdout",
     "output_type": "stream",
     "text": [
      "Finishing early in 12 steps\n",
      "defaultdict(<class 'list'>, {0: [0, 200, 201, 202, 203, 204, 205, 206, 207, 208, 209, 211, 212, 213, 214, 215, 216, 217, 218, 219, 220, 221, 222, 223, 224, 225, 226, 227, 228, 229, 230, 231, 232, 233, 234, 235, 236, 237, 238, 239, 240, 241, 242, 243, 244, 245, 246, 247, 248, 249, 250, 251, 252, 253, 254, 255, 256, 257, 258, 259, 260, 261, 262, 263, 264, 265, 266, 267, 268, 269, 270, 271, 272, 273, 274, 275, 276, 277, 278, 279, 280, 281, 282, 283, 284, 285, 286, 287, 288, 289, 290, 291, 292, 293, 294, 295, 296, 297, 298, 299], 1: [1, 2, 3, 4, 5, 6, 7, 8, 9, 11, 12, 13, 14, 15, 16, 17, 18, 19, 20, 21, 22, 23, 24, 25, 26, 27, 28, 29, 30, 31, 32, 33, 34, 35, 36, 37, 38, 39, 40, 41, 42, 43, 44, 45, 46, 47, 48, 49, 50, 51, 52, 53, 54, 55, 56, 57, 58, 59, 60, 61, 62, 63, 64, 65, 66, 67, 68, 69, 70, 71, 72, 73, 74, 75, 76, 77, 78, 79, 80, 81, 82, 83, 84, 85, 86, 87, 88, 89, 90, 91, 92, 93, 94, 95, 96, 97, 98, 99, 100, 210], 2: [10, 101, 102, 103, 104, 105, 106, 107, 108, 109, 111, 112, 113, 115, 116, 117, 118, 119, 120, 121, 122, 123, 124, 125, 126, 127, 128, 129, 130, 132, 133, 134, 135, 136, 137, 138, 140, 141, 142, 143, 144, 145, 146, 147, 148, 149, 150, 151, 152, 153, 154, 155, 156, 157, 159, 161, 162, 163, 164, 165, 166, 167, 168, 170, 171, 172, 173, 174, 175, 176, 177, 178, 179, 180, 181, 182, 183, 184, 185, 186, 187, 188, 189, 190, 191, 192, 193, 194, 195, 196, 197, 198, 199, 300, 302, 349, 359, 367, 372, 391, 395], 3: [110, 114, 131, 139, 158, 160, 169, 301, 303, 304, 305, 306, 307, 308, 309, 310, 311, 312, 313, 314, 315, 316, 317, 318, 319, 320, 321, 322, 323, 324, 325, 326, 327, 328, 329, 330, 331, 332, 333, 334, 335, 336, 337, 338, 339, 340, 341, 342, 343, 344, 345, 346, 347, 348, 350, 351, 352, 353, 354, 355, 356, 357, 358, 360, 361, 362, 363, 364, 365, 366, 368, 369, 370, 371, 373, 374, 375, 376, 377, 378, 379, 380, 381, 382, 383, 384, 385, 386, 387, 388, 389, 390, 392, 393, 394, 396, 397, 398, 399]})\n",
      "[array([-1.33376871, -1.32824024]), array([-0.39219528, -0.3903362 ]), array([0.52804883, 0.55392185]), array([1.20468149, 1.17082361])]\n",
      "1\n"
     ]
    }
   ],
   "source": [
    "class KMeans_custom:\n",
    "    def __init__(self, k, max_iter = 100, verbose = False,random_state = None):\n",
    "        self.k = k\n",
    "        self.verbose = verbose\n",
    "        self.max_iter = max_iter\n",
    "        self.random_state = random_state\n",
    "        self.centroids = None\n",
    "        self.clus_map = None\n",
    "        \n",
    "        \n",
    "    def _distance(self, a,b):\n",
    "            '''\n",
    "            The distance in k-means clustering is only Euclidean\n",
    "            '''\n",
    "            return np.sqrt(np.sum((a-b)**2))\n",
    "       \n",
    "    \n",
    "    def _initial_clusters(self, X):\n",
    "        '''\n",
    "        Picks k points randomly from dataset as initial centroids.\n",
    "        We can also use kmeans++ technique to come. \n",
    "        '''\n",
    "        indices = range(X.shape[0])\n",
    "        if self.random_state:\n",
    "            np.random.seed(self.random_state)\n",
    "\n",
    "        chosen_indices = np.random.choice(indices, self.k)\n",
    "        return X[chosen_indices]\n",
    "    \n",
    "    def _get_centroid(self, X,clus_map):\n",
    "        \n",
    "        centroids = []\n",
    "        for cluster_id in clus_map:\n",
    "            indices = clus_map[cluster_id]\n",
    "            Xcluster = X[np.array(indices)]\n",
    "            centroid = np.mean(Xcluster, axis = 0)\n",
    "            centroids.append(centroid)\n",
    "        return centroids\n",
    "    \n",
    "    def _cluster_assign(self, X, centroids):\n",
    "        clus_map = defaultdict(list)\n",
    "        for index, point in enumerate(X):\n",
    "            dists = [self._distance(c,point) for c in centroids]\n",
    "            assigned_cluster_id = np.argmin(dists)\n",
    "            clus_map[assigned_cluster_id].append(index)\n",
    "        return clus_map\n",
    "    \n",
    "    def fit(self, X):\n",
    "         \n",
    "        prev_clus_map= None\n",
    "        for iter_num in range(self.max_iter):\n",
    "            if iter_num == 0:\n",
    "                centroids = self._initial_clusters(X)\n",
    "            else:\n",
    "                centroids = self._get_centroid(X,clus_map)\n",
    "            \n",
    "            clus_map = self._cluster_assign(X, centroids)\n",
    "            if clus_map == prev_clus_map:\n",
    "                if self.verbose: print (\"Finishing early in \" + str(iter_num) + \" steps\")\n",
    "                break\n",
    "            \n",
    "            prev_clus_map = clus_map\n",
    "            \n",
    "        \n",
    "        self.centroids = centroids\n",
    "        self.clus_map = clus_map\n",
    "        return clus_map\n",
    "    \n",
    "    def predict(self, point):\n",
    "        '''\n",
    "        Predict which cluster an new point belongs to\n",
    "        '''\n",
    "        dists = [self._distance(c,point) for c in self.centroids]\n",
    "        return np.argmin(dists)\n",
    "    \n",
    "    def sse(self, X):\n",
    "        c = np.mean(X, axis = 0)\n",
    "        total_sse = sum([self._distance(c,point) for point in X])\n",
    "        \n",
    "        sse_numerator = 0\n",
    "        for cluster_id in range(self.k):\n",
    "            c = self.centroids[cluster_id]\n",
    "            points_cluster = X[np.array(self.clus_map[cluster_id])]\n",
    "            sse = sum([self._distance(c,point) for point in points_cluster])\n",
    "            sse_numerator += sse\n",
    "        \n",
    "        return sse_numerator / total_sse\n",
    "        \n",
    "        \n",
    "X0 = np.random.randn(100,2)\n",
    "X1 = X0 + 3\n",
    "X2 = X0 - 3\n",
    "X3 = X0 + 5\n",
    "X = np.vstack((X0, X1, X2, X3 ))\n",
    "\n",
    "# Scale the varibles before kmeans \n",
    "X1 = (X-np.min(X,axis =0))/ (np.max(X, axis =0) - np.min(X, axis = 0)) # Min-Max Scaler\n",
    "X2 = (X - np.mean(X, axis =0))/np.std(X, axis =0) # Standard Scaler\n",
    "\n",
    "#X = np.random.randn(100,2)\n",
    "\n",
    "kmeans = KMeans_custom(k = 4, verbose = True, random_state = 124)\n",
    "clus_map = kmeans.fit(X2)\n",
    "print (clus_map)\n",
    "print (kmeans.centroids)\n",
    "print (kmeans.predict(np.array([0,0])))"
   ]
  },
  {
   "cell_type": "code",
   "execution_count": 153,
   "id": "6530d5be",
   "metadata": {},
   "outputs": [
    {
     "data": {
      "image/png": "[encoded data removed]",
      "text/plain": [
       "<Figure size 432x288 with 1 Axes>"
      ]
     },
     "metadata": {
      "needs_background": "light"
     },
     "output_type": "display_data"
    }
   ],
   "source": [
    "# Plotting of cluster points\n",
    "clus_map_reverse = {}\n",
    "for clusterId, indices in clus_map.items():\n",
    "    for index in indices:\n",
    "        clus_map_reverse[index] = clusterId\n",
    "\n",
    "c = [clus_map_reverse[i] for i in range(X.shape[0])]\n",
    "\n",
    "plt.scatter(X[:,0], X[:,1],c = c)\n",
    "plt.xlabel('x')\n",
    "plt.ylabel('y')\n",
    "plt.title('Kmeans Clustering')\n",
    "#plt.legend(loc = 'best')\n",
    "plt.show()"
   ]
  },
  {
   "cell_type": "code",
   "execution_count": 133,
   "id": "5524326b",
   "metadata": {},
   "outputs": [
    {
     "name": "stdout",
     "output_type": "stream",
     "text": [
      "Finishing early in 2 steps\n",
      "Finishing early in 17 steps\n",
      "Finishing early in 9 steps\n",
      "Finishing early in 8 steps\n",
      "Finishing early in 9 steps\n",
      "Finishing early in 9 steps\n",
      "Finishing early in 18 steps\n",
      "Finishing early in 18 steps\n"
     ]
    },
    {
     "data": {
      "image/png": "[encoded data removed]",
      "text/plain": [
       "<Figure size 432x288 with 1 Axes>"
      ]
     },
     "metadata": {
      "needs_background": "light"
     },
     "output_type": "display_data"
    }
   ],
   "source": [
    "# Plotting of Elblow Curve\n",
    "sse_y = []; sse_x =[]\n",
    "for k in range(2,10):\n",
    "    kmeans = KMeans_custom(k = k, verbose = True, random_state = 124)\n",
    "    clus_map = kmeans.fit(X)\n",
    "    sse_x.append(k)\n",
    "    sse_y.append(kmeans.sse(X))\n",
    "\n",
    "plt.plot(sse_x, sse_y, 'o-')\n",
    "plt.xlabel('k')\n",
    "plt.ylabel('sse')\n",
    "plt.title('Elbow Curve')\n",
    "plt.show()"
   ]
  },
  {
   "cell_type": "code",
   "execution_count": 127,
   "id": "e1e95a4e",
   "metadata": {},
   "outputs": [],
   "source": [
    "plt.scatter?"
   ]
  },
  {
   "cell_type": "code",
   "execution_count": 139,
   "id": "44fb5fb4",
   "metadata": {},
   "outputs": [
    {
     "data": {
      "text/plain": [
       "array([[ 99.99999457, 102.14502042,  93.65965024],\n",
       "       [104.26907318, 104.99372273, 101.87952214],\n",
       "       [ 98.08239581, 100.27746285,  89.6495795 ],\n",
       "       [104.30452061,  99.45806565, 102.29355191],\n",
       "       [101.88032511,  95.16816273, 100.30467336],\n",
       "       [ 99.46319435, 110.2686266 ,  90.11596903],\n",
       "       [105.91885118, 103.14277311, 105.7696155 ],\n",
       "       [103.34866347, 105.68903478,  97.30124635],\n",
       "       [104.54846437, 100.30923113, 109.57735626],\n",
       "       [111.22557628, 107.0690386 ,  97.7687029 ]])"
      ]
     },
     "execution_count": 139,
     "metadata": {},
     "output_type": "execute_result"
    }
   ],
   "source": [
    "X = 5*np.random.randn(10,3)+ 100\n",
    "X"
   ]
  },
  {
   "cell_type": "code",
   "execution_count": 143,
   "id": "ee7aa25f",
   "metadata": {},
   "outputs": [
    {
     "data": {
      "text/plain": [
       "array([[-0.92341122, -0.17166511, -0.84178766],\n",
       "       [ 0.26968269,  0.51993061,  0.49598044],\n",
       "       [-1.45932907, -0.62506272, -1.49441885],\n",
       "       [ 0.2795893 , -0.82399246,  0.56336298],\n",
       "       [-0.39790886, -1.86547668,  0.23967688],\n",
       "       [-1.07343261,  1.80054913, -1.41851486],\n",
       "       [ 0.73075175,  0.07056501,  1.12908554],\n",
       "       [ 0.01245266,  0.68873549, -0.24912501],\n",
       "       [ 0.34776509, -0.61735016,  1.74878791],\n",
       "       [ 2.21384026,  1.02376689, -0.17304737]])"
      ]
     },
     "execution_count": 143,
     "metadata": {},
     "output_type": "execute_result"
    }
   ],
   "source": [
    "Y = (X - np.mean(X, axis = 0))/np.std(X, axis = 0)\n",
    "Y"
   ]
  },
  {
   "cell_type": "code",
   "execution_count": 146,
   "id": "117db748",
   "metadata": {},
   "outputs": [
    {
     "data": {
      "text/plain": [
       "array([[ 99.99999457, 102.14502042,  93.65965024],\n",
       "       [104.26907318, 104.99372273, 101.87952214],\n",
       "       [ 98.08239581, 100.27746285,  89.6495795 ],\n",
       "       [104.30452061,  99.45806565, 102.29355191],\n",
       "       [101.88032511,  95.16816273, 100.30467336],\n",
       "       [ 99.46319435, 110.2686266 ,  90.11596903],\n",
       "       [105.91885118, 103.14277311, 105.7696155 ],\n",
       "       [103.34866347, 105.68903478,  97.30124635],\n",
       "       [104.54846437, 100.30923113, 109.57735626],\n",
       "       [111.22557628, 107.0690386 ,  97.7687029 ]])"
      ]
     },
     "execution_count": 146,
     "metadata": {},
     "output_type": "execute_result"
    }
   ],
   "source": [
    "X"
   ]
  },
  {
   "cell_type": "code",
   "execution_count": 149,
   "id": "5b513722",
   "metadata": {},
   "outputs": [
    {
     "data": {
      "text/plain": [
       "array([[0.14590066, 0.46202936, 0.20123021],\n",
       "       [0.47071387, 0.65067935, 0.61371335],\n",
       "       [0.        , 0.33835385, 0.        ],\n",
       "       [0.47341089, 0.2840908 , 0.63448987],\n",
       "       [0.28896577, 0.        , 0.53468553],\n",
       "       [0.10505817, 1.        , 0.02340399],\n",
       "       [0.59623737, 0.52810367, 0.80892295],\n",
       "       [0.40068442, 0.69672509, 0.38396992],\n",
       "       [0.49197137, 0.34045765, 1.        ],\n",
       "       [1.        , 0.78811326, 0.40742746]])"
      ]
     },
     "execution_count": 149,
     "metadata": {},
     "output_type": "execute_result"
    }
   ],
   "source": [
    "(X - np.min(X, axis =0 ))/(np.max(X, axis =0) - np.min(X, axis = 0))"
   ]
  },
  {
   "cell_type": "code",
   "execution_count": null,
   "id": "afe78250",
   "metadata": {},
   "outputs": [],
   "source": []
  }
 ],
 "metadata": {
  "kernelspec": {
   "display_name": "Python 3 (ipykernel)",
   "language": "python",
   "name": "python3"
  },
  "language_info": {
   "codemirror_mode": {
    "name": "ipython",
    "version": 3
   },
   "file_extension": ".py",
   "mimetype": "text/x-python",
   "name": "python",
   "nbconvert_exporter": "python",
   "pygments_lexer": "ipython3",
   "version": "3.9.12"
  }
 },
 "nbformat": 4,
 "nbformat_minor": 5
}

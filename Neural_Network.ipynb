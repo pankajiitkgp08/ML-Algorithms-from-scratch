{
 "cells": [
  {
   "cell_type": "code",
   "execution_count": 2,
   "metadata": {},
   "outputs": [],
   "source": [
    "# To DO\n",
    "\n",
    "# Forward propagation\n",
    "# Backward Propagation"
   ]
  },
  {
   "cell_type": "code",
   "execution_count": null,
   "metadata": {},
   "outputs": [],
   "source": [
    "import numpy as np"
   ]
  },
  {
   "cell_type": "code",
   "execution_count": 4,
   "metadata": {},
   "outputs": [],
   "source": [
    "class NeuralNetwork:\n",
    "    def __init__(self, num_inputs = None, num_classes = None, hidden_layer_size = []):\n",
    "        self.num_rows = None\n",
    "        self.num_inputs = num_inputs\n",
    "        self.num_classes = num_classes\n",
    "        self.hidden_layer_size = hidden_layer_size\n",
    "        self.epochs = 10\n",
    "        self.weights = []\n",
    "        self.intermediate_data = []\n",
    "        \n",
    "    def sigmoid(self,z):\n",
    "        return 1.0/(1+np.exp(-z))\n",
    "    \n",
    "    def softmax(self, z):\n",
    "        tot = np.sum(np.exp(z))\n",
    "        return np.exp(z)/tot\n",
    "    \n",
    "    def ce_loss(self, y, y_pred):\n",
    "        #loss = 0\n",
    "        #for i in range(len(y)):\n",
    "        #    loss += -1*np.log(y_pred[i,y_pred[i]])\n",
    "        #return loss/len(y)\n",
    "    \n",
    "        return -np.sum(np.log2(y_pred[range(len(y)), y]))\n",
    "        \n",
    "    def weights_initialize(self):\n",
    "        temp = [self.num_inputs] + self.hidden_layer_size + [self.num_classes]\n",
    "        for h in range(len(temp) - 1):\n",
    "            W = np.random.rand(temp[h], temp[h+1])\n",
    "            self.weights.append(W)\n",
    "        \n",
    "    def forward(self, X):\n",
    "        a = X\n",
    "        for h in range(len(self.hidden_layer_size)):\n",
    "            z = np.matmul(a, self.weights[h])\n",
    "            a = self.sigmoid(z)\n",
    "            self.intermediate_data.append([z,a])\n",
    "            \n",
    "        # last layer\n",
    "        z = np.matmul(a, self.weights[h+1])\n",
    "        y_prob = self.softmax(z)\n",
    "        self.intermediate_data.append([z,y_prob])\n",
    "        return y_prob\n",
    "    \n",
    "    def backward(self, X, y):\n",
    "        # Compute gradients = []\n",
    "        # compute self.weights\n",
    "        y_modified = np.zeros((self.num_rows,self.num_classes))\n",
    "        pp[range(10), y] = 1\n",
    "\n",
    "        z,a = self.intermediate_data[-1]\n",
    "        dz = a - y_modified\n",
    "        z_prev, a_prev =  self.intermediate_data[-2]\n",
    "        dw = np.matmul(a_prev.T, dz)/self.num_rows\n",
    "        da_prev = np.matmul(dz, w) \n",
    "        \n",
    "    \n",
    "    def train(self, X_no_bias, y):\n",
    "        ones = np.ones((X_no_bias.shape[0], 1))\n",
    "        X = np.hstack([ones, X_no_bias])\n",
    "        nrows, nfeats = X.shape\n",
    "        self.num_inputs = nfeats\n",
    "        self.num_rows = nrows\n",
    "        self.num_classes= len(set(y))\n",
    "        \n",
    "        self.weights_initialize() # Initialize weights\n",
    "        losses = []\n",
    "        for epoch in self.epochs:\n",
    "            y_prob = self.forward(X)\n",
    "            losses.append(self.ce_loss(y, y_prob))\n",
    "            self.backward(X,y)\n",
    "        print (losses)\n",
    "        \n",
    "    def predict(self, X_test):\n",
    "        y_prob = self.forward(X_test)\n",
    "        return np.argmax(y_prob, axis = 1)\n",
    "        "
   ]
  },
  {
   "cell_type": "code",
   "execution_count": 17,
   "metadata": {},
   "outputs": [
    {
     "data": {
      "text/plain": [
       "array([2, 0, 0, 1, 1, 2, 0, 1, 0, 0])"
      ]
     },
     "execution_count": 17,
     "metadata": {},
     "output_type": "execute_result"
    }
   ],
   "source": [
    "y = np.random.choice([0,1,2], 10)\n",
    "y"
   ]
  },
  {
   "cell_type": "code",
   "execution_count": 15,
   "metadata": {},
   "outputs": [
    {
     "data": {
      "text/plain": [
       "array([[0.37913545, 0.52119838, 0.32227038],\n",
       "       [0.99608508, 0.83016664, 0.54925934],\n",
       "       [0.83906725, 0.31229312, 0.53653331],\n",
       "       [0.34271652, 0.21526398, 0.0385661 ],\n",
       "       [0.28806022, 0.92618904, 0.46235222],\n",
       "       [0.3464293 , 0.95879138, 0.68625296],\n",
       "       [0.76036639, 0.79776297, 0.04684361],\n",
       "       [0.58748243, 0.03348148, 0.02548151],\n",
       "       [0.75876664, 0.83657795, 0.69261966],\n",
       "       [0.99217496, 0.98954445, 0.32103255]])"
      ]
     },
     "execution_count": 15,
     "metadata": {},
     "output_type": "execute_result"
    }
   ],
   "source": [
    "data  = np.random.rand(10,3)\n",
    "data"
   ]
  },
  {
   "cell_type": "code",
   "execution_count": 38,
   "metadata": {},
   "outputs": [
    {
     "data": {
      "text/plain": [
       "array([2, 0, 0, 1, 1, 2, 0, 1, 0, 0])"
      ]
     },
     "execution_count": 38,
     "metadata": {},
     "output_type": "execute_result"
    }
   ],
   "source": [
    "y"
   ]
  },
  {
   "cell_type": "code",
   "execution_count": 35,
   "metadata": {},
   "outputs": [
    {
     "data": {
      "text/plain": [
       "array([[0.37913545, 0.52119838, 0.32227038],\n",
       "       [0.99608508, 0.83016664, 0.54925934],\n",
       "       [0.83906725, 0.31229312, 0.53653331],\n",
       "       [0.34271652, 0.21526398, 0.0385661 ],\n",
       "       [0.28806022, 0.92618904, 0.46235222],\n",
       "       [0.3464293 , 0.95879138, 0.68625296],\n",
       "       [0.76036639, 0.79776297, 0.04684361],\n",
       "       [0.58748243, 0.03348148, 0.02548151],\n",
       "       [0.75876664, 0.83657795, 0.69261966],\n",
       "       [0.99217496, 0.98954445, 0.32103255]])"
      ]
     },
     "execution_count": 35,
     "metadata": {},
     "output_type": "execute_result"
    }
   ],
   "source": [
    "data"
   ]
  },
  {
   "cell_type": "code",
   "execution_count": 43,
   "metadata": {},
   "outputs": [
    {
     "ename": "IndexError",
     "evalue": "shape mismatch: indexing arrays could not be broadcast together with shapes (11,) (10,) ",
     "output_type": "error",
     "traceback": [
      "\u001b[0;31m---------------------------------------------------------------------------\u001b[0m",
      "\u001b[0;31mIndexError\u001b[0m                                Traceback (most recent call last)",
      "\u001b[0;32m<ipython-input-43-d8ebadfa8057>\u001b[0m in \u001b[0;36m<module>\u001b[0;34m\u001b[0m\n\u001b[0;32m----> 1\u001b[0;31m \u001b[0mdata\u001b[0m\u001b[0;34m[\u001b[0m\u001b[0mrange\u001b[0m\u001b[0;34m(\u001b[0m\u001b[0;36m11\u001b[0m\u001b[0;34m)\u001b[0m\u001b[0;34m,\u001b[0m \u001b[0my\u001b[0m\u001b[0;34m]\u001b[0m \u001b[0;34m-=\u001b[0m \u001b[0;36m1\u001b[0m\u001b[0;34m\u001b[0m\u001b[0;34m\u001b[0m\u001b[0m\n\u001b[0m",
      "\u001b[0;31mIndexError\u001b[0m: shape mismatch: indexing arrays could not be broadcast together with shapes (11,) (10,) "
     ]
    }
   ],
   "source": [
    "data[range(11), y] -= 1"
   ]
  },
  {
   "cell_type": "code",
   "execution_count": 42,
   "metadata": {},
   "outputs": [
    {
     "data": {
      "text/plain": [
       "array([[ 0.37913545,  0.52119838, -0.67772962],\n",
       "       [-0.00391492,  0.83016664,  0.54925934],\n",
       "       [-0.16093275,  0.31229312,  0.53653331],\n",
       "       [ 0.34271652, -0.78473602,  0.0385661 ],\n",
       "       [ 0.28806022, -0.07381096,  0.46235222],\n",
       "       [ 0.3464293 ,  0.95879138, -0.31374704],\n",
       "       [-0.23963361,  0.79776297,  0.04684361],\n",
       "       [ 0.58748243, -0.96651852,  0.02548151],\n",
       "       [-0.24123336,  0.83657795,  0.69261966],\n",
       "       [-0.00782504,  0.98954445,  0.32103255]])"
      ]
     },
     "execution_count": 42,
     "metadata": {},
     "output_type": "execute_result"
    }
   ],
   "source": [
    "data"
   ]
  }
 ],
 "metadata": {
  "kernelspec": {
   "display_name": "Python 3",
   "language": "python",
   "name": "python3"
  },
  "language_info": {
   "codemirror_mode": {
    "name": "ipython",
    "version": 3
   },
   "file_extension": ".py",
   "mimetype": "text/x-python",
   "name": "python",
   "nbconvert_exporter": "python",
   "pygments_lexer": "ipython3",
   "version": "3.8.5"
  }
 },
 "nbformat": 4,
 "nbformat_minor": 4
}

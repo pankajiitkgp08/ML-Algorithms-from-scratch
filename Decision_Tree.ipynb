{
 "cells": [
  {
   "cell_type": "code",
   "execution_count": 1,
   "metadata": {},
   "outputs": [],
   "source": [
    "## Steps to perform ##\n",
    "#1. Prepare dataset \n",
    "#2. Class structure\n",
    "#3. Gini Coeffienct\n",
    "#4. Feature selector"
   ]
  },
  {
   "cell_type": "code",
   "execution_count": 8,
   "metadata": {},
   "outputs": [],
   "source": [
    "import numpy as np"
   ]
  },
  {
   "cell_type": "code",
   "execution_count": 118,
   "metadata": {},
   "outputs": [],
   "source": [
    "class TreeNode:\n",
    "    def __init__(self, left = None, right = None, val = None, max_vote = None, is_leaf = False):\n",
    "        self.left = left\n",
    "        self.right = right\n",
    "        self.val = val\n",
    "        self.max_vote = max_vote\n",
    "        self.is_leaf = is_leaf\n",
    "\n",
    "class DecisionTree:\n",
    "    def __init__(self):\n",
    "        self.max_depth = 5\n",
    "        self.root = None\n",
    "        \n",
    "    def entropy(self, vec):\n",
    "        # numpy vector input\n",
    "        prop1 = sum(vec == 1)/len(vec)\n",
    "        prop0 = sum(vec ==0 )/len(vec)\n",
    "        epsilon = 1e-5\n",
    "        entropy = -prop1*np.log2(prop1+epsilon) - prop0*np.log2(prop0+epsilon)\n",
    "        return entropy\n",
    "    \n",
    "    def feature_selector(self, X,y):\n",
    "        max_ig = -float(\"inf\"); chosen_feature_index = -1\n",
    "        for feature_index in range(num_features):\n",
    "            cutoff = np.median(X[:,feature_index])\n",
    "            sliced = np.hstack([X[:,feature_index].reshape(-1,1), y.reshape(-1,1)])\n",
    "            part1 = sliced[sliced[:,0] > cutoff][:,-1]\n",
    "            part2 = sliced[sliced[:,0] <= cutoff][:,-1]\n",
    "            # # \n",
    "            parent_entropy = self.entropy(y)\n",
    "            post_split_entropy = (self.entropy(part1)*len(part1) + self.entropy(part2)*len(part2) )/len(y)\n",
    "            information_gain = parent_entropy - post_split_entropy\n",
    "            if information_gain > max_ig:\n",
    "                max_ig = information_gain\n",
    "                chosen_feature_index = feature_index\n",
    "\n",
    "        return chosen_feature_index, max_ig,cutoff\n",
    "\n",
    "\n",
    "\n",
    "    # Traininig function\n",
    "\n",
    "    def __build(self, X, y, depth):\n",
    "        max_vote = sum(y == 1) > sum(y ==0)\n",
    "        \n",
    "        if depth >= self.max_depth or len(y) == sum(y==1) or len(y) == sum(y==0):\n",
    "            return TreeNode(is_leaf = True, max_vote = max_vote )\n",
    "        chosen_feature_index, max_ig,cutoff = self.feature_selector(X,y)\n",
    "        combined_data = np.hstack([X, y.reshape(-1,1)])\n",
    "        left_data = combined_data[combined_data[:,chosen_feature_index] < cutoff]\n",
    "        right_data = combined_data[combined_data[:,chosen_feature_index] > cutoff]\n",
    "        \n",
    "        if len(left_data) == 0 or len(right_data) ==0:\n",
    "            return TreeNode(is_leaf = True, max_vote = max_vote )\n",
    "        \n",
    "        root = TreeNode()\n",
    "        root.val = (chosen_feature_index , cutoff)\n",
    "        root.left = self.__build(left_data[:, :-1], left_data[:,-1], depth+1)\n",
    "        root.right = self.__build(right_data[:, :-1], right_data[:,-1],depth+1)\n",
    "        root.max_vote = max_vote\n",
    "        return root\n",
    "\n",
    "    def train(self, X,y):\n",
    "        depth = 0\n",
    "        self.root = self.__build(X,y, depth)\n",
    "    \n",
    "    def predict(self, x_test, curr = None):\n",
    "        if curr is None: curr = self.root # Starting point\n",
    "            \n",
    "        if curr.left is None and curr.right is None: # Its a leaf node\n",
    "            return curr.max_vote\n",
    "            \n",
    "        feat_index , cutoff = curr.val\n",
    "        if x_test[feat_index] > cutoff:\n",
    "            return self.predict(x_test, curr.right)\n",
    "        else:\n",
    "            return self.predict(x_test, curr.left)\n",
    "    "
   ]
  },
  {
   "cell_type": "code",
   "execution_count": 119,
   "metadata": {},
   "outputs": [],
   "source": [
    "X = np.random.rand(100,4)*50 +4\n",
    "y = np.random.choice([1,0], 100)  \n",
    "\n",
    "model = DecisionTree()"
   ]
  },
  {
   "cell_type": "code",
   "execution_count": 120,
   "metadata": {},
   "outputs": [],
   "source": [
    "model.train(X,y)"
   ]
  },
  {
   "cell_type": "code",
   "execution_count": 124,
   "metadata": {},
   "outputs": [
    {
     "data": {
      "text/plain": [
       "81"
      ]
     },
     "execution_count": 124,
     "metadata": {},
     "output_type": "execute_result"
    }
   ],
   "source": [
    "sum([model.predict(X[i], model.root) for i in range(100)])"
   ]
  },
  {
   "cell_type": "code",
   "execution_count": 122,
   "metadata": {},
   "outputs": [
    {
     "data": {
      "text/plain": [
       "array([1, 1, 0, 0, 0, 1, 1, 1, 0, 1, 1, 0, 0, 0, 0, 1, 1, 0, 1, 0])"
      ]
     },
     "execution_count": 122,
     "metadata": {},
     "output_type": "execute_result"
    }
   ],
   "source": [
    "y[:20]"
   ]
  },
  {
   "cell_type": "code",
   "execution_count": 80,
   "metadata": {},
   "outputs": [
    {
     "data": {
      "text/plain": [
       "array([ 5.71402344, 20.50145181,  9.43685723, 14.55038598])"
      ]
     },
     "execution_count": 80,
     "metadata": {},
     "output_type": "execute_result"
    }
   ],
   "source": [
    "  X[0]"
   ]
  },
  {
   "cell_type": "code",
   "execution_count": 30,
   "metadata": {},
   "outputs": [],
   "source": [
    "nrows, num_features = X.shape"
   ]
  },
  {
   "cell_type": "code",
   "execution_count": 45,
   "metadata": {},
   "outputs": [],
   "source": []
  },
  {
   "cell_type": "code",
   "execution_count": 54,
   "metadata": {},
   "outputs": [
    {
     "data": {
      "text/plain": [
       "True"
      ]
     },
     "execution_count": 54,
     "metadata": {},
     "output_type": "execute_result"
    }
   ],
   "source": []
  },
  {
   "cell_type": "code",
   "execution_count": 43,
   "metadata": {},
   "outputs": [
    {
     "data": {
      "text/plain": [
       "array([[40.44844233,  0.        ],\n",
       "       [41.22510769,  1.        ],\n",
       "       [52.25543081,  1.        ]])"
      ]
     },
     "execution_count": 43,
     "metadata": {},
     "output_type": "execute_result"
    }
   ],
   "source": [
    "part1 =sliced[sliced[:,0] > 40]\n",
    "part1"
   ]
  },
  {
   "cell_type": "code",
   "execution_count": 47,
   "metadata": {},
   "outputs": [
    {
     "data": {
      "text/plain": [
       "array([[52.82041225, 28.92661965, 53.73803466, 37.24061762,  1.        ],\n",
       "       [46.24673417, 11.79848212, 45.62927583, 39.47683985,  0.        ],\n",
       "       [20.26642427, 38.38630271,  4.31383442, 40.44844233,  0.        ],\n",
       "       [ 8.75515664, 40.48673538,  8.91727415, 41.22510769,  1.        ],\n",
       "       [38.56009015, 33.59446147, 32.16816286, 38.27464789,  0.        ],\n",
       "       [13.08354242, 14.51476269, 23.16365033, 28.59021777,  1.        ],\n",
       "       [45.81414391, 26.86294597, 26.33283119, 14.46110413,  0.        ],\n",
       "       [23.26021692, 30.01265898, 13.15229917, 34.76174049,  1.        ],\n",
       "       [32.28264403, 29.43658042, 44.11845513, 52.25543081,  1.        ],\n",
       "       [ 5.50703255, 18.81331565, 33.56246253, 28.82128346,  1.        ]])"
      ]
     },
     "execution_count": 47,
     "metadata": {},
     "output_type": "execute_result"
    }
   ],
   "source": [
    "cd = np.hstack([X, y.reshape(-1,1)])\n",
    "cd"
   ]
  },
  {
   "cell_type": "code",
   "execution_count": 48,
   "metadata": {},
   "outputs": [
    {
     "data": {
      "text/plain": [
       "array([[52.82041225, 28.92661965, 53.73803466, 37.24061762,  1.        ],\n",
       "       [46.24673417, 11.79848212, 45.62927583, 39.47683985,  0.        ],\n",
       "       [32.28264403, 29.43658042, 44.11845513, 52.25543081,  1.        ]])"
      ]
     },
     "execution_count": 48,
     "metadata": {},
     "output_type": "execute_result"
    }
   ],
   "source": [
    "cd[cd[:,2] > 40]"
   ]
  },
  {
   "cell_type": "code",
   "execution_count": null,
   "metadata": {},
   "outputs": [],
   "source": []
  }
 ],
 "metadata": {
  "kernelspec": {
   "display_name": "Python 3",
   "language": "python",
   "name": "python3"
  },
  "language_info": {
   "codemirror_mode": {
    "name": "ipython",
    "version": 3
   },
   "file_extension": ".py",
   "mimetype": "text/x-python",
   "name": "python",
   "nbconvert_exporter": "python",
   "pygments_lexer": "ipython3",
   "version": "3.6.13"
  }
 },
 "nbformat": 4,
 "nbformat_minor": 4
}
